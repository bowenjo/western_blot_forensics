{
 "cells": [
  {
   "cell_type": "code",
   "execution_count": 1,
   "metadata": {},
   "outputs": [],
   "source": [
    "import numpy as np \n",
    "import matplotlib.pyplot as plt\n",
    "from wbForensicsHOG import wbForensicsHOG\n",
    "import params.config as config\n",
    "import os\n",
    "\n",
    "%matplotlib notebook"
   ]
  },
  {
   "cell_type": "code",
   "execution_count": 2,
   "metadata": {},
   "outputs": [],
   "source": [
    "## Blot cutter\n",
    "dr = 'Projects/test_multipliers/image'\n",
    "fingerprint = np.load(\"Projects/image_test_eBik/saves/fingerprint.npy\").item()\n",
    "## Thresh Blot cutter\n",
    "dr_thresh = 'Projects/test_multipliers/image_thresh'\n",
    "fingerprint = np.load(\"Projects/image_test_eBik/saves/fingerprint.npy\").item()\n",
    "# ## SIFT\n",
    "# dr_sift = 'Projects/test_multipliers/sift'\n",
    "# fingerprint = np.load(\"Projects/sift_test_eBik/saves/fingerprint.npy\").item()\n",
    "\n",
    "if not os.path.exists(dr):\n",
    "    os.mkdir(dr)"
   ]
  },
  {
   "cell_type": "markdown",
   "metadata": {},
   "source": [
    "## Get refenrece analyses"
   ]
  },
  {
   "cell_type": "code",
   "execution_count": null,
   "metadata": {},
   "outputs": [],
   "source": [
    "def run(Forensics, save_file):\n",
    "    Forensics.d_rank(pairs=Forensics.pairs, ratios=Forensics.ratios, distances=Forensics.dists)\n",
    "    Forensics.assign_match_label(pairs=Forensics.Dist_Rank[\"image_match_pairs\"], \n",
    "                                 distances = Forensics.Dist_Rank[\"image_match_dists\"], \n",
    "                                 ratios=Forensics.Dist_Rank[\"image_match_ratios\"],\n",
    "                                 ASSIGNMENT= config.match_type)\n",
    "    \n",
    "    np.save(save_file, Forensics.truth_values)\n",
    "    print(\"Completed analysis for multiplier: {}\".format(config.multiplier_num_sum))\n",
    "    \n",
    "    "
   ]
  },
  {
   "cell_type": "code",
   "execution_count": null,
   "metadata": {},
   "outputs": [],
   "source": [
    "config.match_type = \"image\"\n",
    "multipliers = np.arange(0,101,10)\n",
    "multipliers"
   ]
  },
  {
   "cell_type": "markdown",
   "metadata": {},
   "source": [
    "## No threhsold"
   ]
  },
  {
   "cell_type": "code",
   "execution_count": null,
   "metadata": {},
   "outputs": [],
   "source": [
    "config.r_T = None \n",
    "Forensics = wbForensicsHOG(fingerprint)\n",
    "Forensics.KDTree_pairs(len(fingerprint[\"feature_vectors\"])+1)\n",
    "\n",
    "# config.accum_type = 'weighted'\n",
    "# for m in multipliers:\n",
    "#     config.multiplier_num_sum = m\n",
    "#     save_file = dr + '/reference_analysis_' + str(m)\n",
    "#     run(Forensics, save_file)\n",
    "    \n",
    "config.accum_type = 'mean'\n",
    "config.multiplier_num_sum = 'mean'\n",
    "save_file = dr + '/reference_analysis_mean'\n",
    "run(Forensics, save_file )"
   ]
  },
  {
   "cell_type": "markdown",
   "metadata": {},
   "source": [
    "## With threshold"
   ]
  },
  {
   "cell_type": "code",
   "execution_count": null,
   "metadata": {},
   "outputs": [],
   "source": [
    "config.r_T = 1.02\n",
    "Forensics = wbForensicsHOG(fingerprint)\n",
    "Forensics.KDTree_pairs(len(fingerprint[\"feature_vectors\"])+1)\n",
    "\n",
    "config.accum_type = 'weighted'\n",
    "for m in multipliers:\n",
    "    config.multiplier_num_sum = m\n",
    "    save_file = dr_thresh + '/reference_analysis_' + str(m)\n",
    "    run(Forensics, save_file)\n",
    "    \n",
    "config.accum_type = 'mean'\n",
    "config.multiplier_num_sum = 'mean'\n",
    "save_file = dr_thresh + '/reference_analysis_mean'\n",
    "run(Forensics, save_file )"
   ]
  },
  {
   "cell_type": "markdown",
   "metadata": {},
   "source": [
    "## Plot results"
   ]
  },
  {
   "cell_type": "code",
   "execution_count": 3,
   "metadata": {},
   "outputs": [],
   "source": [
    "from analysis.reference_analyze import roc_curve_ref, draw_auc"
   ]
  },
  {
   "cell_type": "code",
   "execution_count": 6,
   "metadata": {},
   "outputs": [],
   "source": [
    "multipliers = list(np.arange(0,101,10)) + ['mean']\n",
    "def get_auc(dr, m):\n",
    "    save_file = dr + '/reference_analysis_' + str(m) + '.npy'\n",
    "    data = np.load(save_file).item()\n",
    "    fpr, tpr, auc, i = roc_curve_ref(data.copy(), annotations, \"ratios\", \"fig\", \"feature\")\n",
    "    return i\n",
    "\n",
    "def plot(annotations):\n",
    "    AUC = []; AUC_thresh = []\n",
    "    for m in multipliers:\n",
    "        AUC.append(get_auc(dr, m))\n",
    "        AUC_thresh.append(get_auc(dr_thresh, m))\n",
    "        #AUC_sift.append(get_auc(dr_sift,m))\n",
    "\n",
    "    fig, ax = plt.subplots(1)\n",
    "    #draw_auc(ax, [AUC], multipliers, [\"BlotCutter\"])\n",
    "    draw_auc(ax, [AUC, AUC_thresh], multipliers, [\"No threshold\", \"Yes threshold\"])\n",
    "    ax.set_ylim([0,.6])"
   ]
  },
  {
   "cell_type": "code",
   "execution_count": 7,
   "metadata": {},
   "outputs": [
    {
     "data": {
      "image/png": "[encoded data removed]",
      "text/plain": [
       "<matplotlib.figure.Figure at 0x7f9fec034dd8>"
      ]
     },
     "metadata": {},
     "output_type": "display_data"
    }
   ],
   "source": [
    "annotations = np.load(\"Datasets/eBik/annotations.npy\").item()\n",
    "plot(annotations)"
   ]
  },
  {
   "cell_type": "code",
   "execution_count": null,
   "metadata": {},
   "outputs": [],
   "source": []
  }
 ],
 "metadata": {
  "kernelspec": {
   "display_name": "Python 3",
   "language": "python",
   "name": "python3"
  },
  "language_info": {
   "codemirror_mode": {
    "name": "ipython",
    "version": 3
   },
   "file_extension": ".py",
   "mimetype": "text/x-python",
   "name": "python",
   "nbconvert_exporter": "python",
   "pygments_lexer": "ipython3",
   "version": "3.5.4"
  }
 },
 "nbformat": 4,
 "nbformat_minor": 2
}
